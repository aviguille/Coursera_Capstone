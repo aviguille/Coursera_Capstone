{
 "cells": [
  {
   "cell_type": "markdown",
   "metadata": {},
   "source": [
    "# Capstone Project - Week 1"
   ]
  },
  {
   "cell_type": "markdown",
   "metadata": {},
   "source": [
    "## Description\n",
    "This project has two parts.\n",
    "1. A description of the problem and a discussion of the background. (15 marks)\n",
    "2. A description of the data and how it will be used to solve the problem."
   ]
  },
  {
   "cell_type": "markdown",
   "metadata": {},
   "source": [
    "## Part 1. Description of the problem and background"
   ]
  },
  {
   "cell_type": "code",
   "execution_count": 2,
   "metadata": {},
   "outputs": [
    {
     "name": "stdout",
     "output_type": "stream",
     "text": [
      "Hello Capstone Project Course!\n"
     ]
    }
   ],
   "source": []
  },
  {
   "cell_type": "code",
   "execution_count": null,
   "metadata": {},
   "outputs": [],
   "source": []
  },
  {
   "cell_type": "markdown",
   "metadata": {},
   "source": [
    "## Part 2. Description of the data"
   ]
  },
  {
   "cell_type": "code",
   "execution_count": 6,
   "metadata": {},
   "outputs": [
    {
     "data": {
      "text/plain": [
       "('listado-codigos-postales-con-LatyLon.csv',\n",
       " <http.client.HTTPMessage at 0x104e157f0>)"
      ]
     },
     "execution_count": 6,
     "metadata": {},
     "output_type": "execute_result"
    }
   ],
   "source": [
    "import csv\n",
    "import xml\n",
    "import pandas as pd\n",
    "import requests\n",
    "import urllib.request\n",
    "import numpy as np\n",
    "\n",
    "url= \"https://xn--cdigospostales-lob.es/wp-content/uploads/2018/09/listado-codigos-postales-con-LatyLon.csv\"\n",
    "urllib.request.urlretrieve(url, 'listado-codigos-postales-con-LatyLon.csv')"
   ]
  },
  {
   "cell_type": "code",
   "execution_count": 9,
   "metadata": {},
   "outputs": [
    {
     "data": {
      "text/html": [
       "<div>\n",
       "<style scoped>\n",
       "    .dataframe tbody tr th:only-of-type {\n",
       "        vertical-align: middle;\n",
       "    }\n",
       "\n",
       "    .dataframe tbody tr th {\n",
       "        vertical-align: top;\n",
       "    }\n",
       "\n",
       "    .dataframe thead th {\n",
       "        text-align: right;\n",
       "    }\n",
       "</style>\n",
       "<table border=\"1\" class=\"dataframe\">\n",
       "  <thead>\n",
       "    <tr style=\"text-align: right;\">\n",
       "      <th></th>\n",
       "      <th>provincia</th>\n",
       "      <th>poblacion</th>\n",
       "      <th>codigopostalid</th>\n",
       "      <th>lat</th>\n",
       "      <th>lon</th>\n",
       "    </tr>\n",
       "  </thead>\n",
       "  <tbody>\n",
       "    <tr>\n",
       "      <th>0</th>\n",
       "      <td>Araba/Álava</td>\n",
       "      <td>Alegría-Dulantzi</td>\n",
       "      <td>240</td>\n",
       "      <td>-2.712437</td>\n",
       "      <td>42.939812</td>\n",
       "    </tr>\n",
       "    <tr>\n",
       "      <th>1</th>\n",
       "      <td>Araba/Álava</td>\n",
       "      <td>Alegría-Dulantzi</td>\n",
       "      <td>1193</td>\n",
       "      <td>-2.712437</td>\n",
       "      <td>42.939812</td>\n",
       "    </tr>\n",
       "    <tr>\n",
       "      <th>2</th>\n",
       "      <td>Araba/Álava</td>\n",
       "      <td>Amurrio</td>\n",
       "      <td>1450</td>\n",
       "      <td>-3.000073</td>\n",
       "      <td>43.054278</td>\n",
       "    </tr>\n",
       "    <tr>\n",
       "      <th>3</th>\n",
       "      <td>Araba/Álava</td>\n",
       "      <td>Amurrio</td>\n",
       "      <td>1468</td>\n",
       "      <td>-3.000073</td>\n",
       "      <td>43.054278</td>\n",
       "    </tr>\n",
       "    <tr>\n",
       "      <th>4</th>\n",
       "      <td>Araba/Álava</td>\n",
       "      <td>Amurrio</td>\n",
       "      <td>1470</td>\n",
       "      <td>-3.000073</td>\n",
       "      <td>43.054278</td>\n",
       "    </tr>\n",
       "  </tbody>\n",
       "</table>\n",
       "</div>"
      ],
      "text/plain": [
       "     provincia         poblacion  codigopostalid       lat        lon\n",
       "0  Araba/Álava  Alegría-Dulantzi             240 -2.712437  42.939812\n",
       "1  Araba/Álava  Alegría-Dulantzi            1193 -2.712437  42.939812\n",
       "2  Araba/Álava           Amurrio            1450 -3.000073  43.054278\n",
       "3  Araba/Álava           Amurrio            1468 -3.000073  43.054278\n",
       "4  Araba/Álava           Amurrio            1470 -3.000073  43.054278"
      ]
     },
     "execution_count": 9,
     "metadata": {},
     "output_type": "execute_result"
    }
   ],
   "source": [
    "data = pd.read_csv('listado-codigos-postales-con-LatyLon.csv', delimiter=';') \n",
    "\n",
    "data.head()"
   ]
  },
  {
   "cell_type": "code",
   "execution_count": null,
   "metadata": {},
   "outputs": [],
   "source": []
  }
 ],
 "metadata": {
  "kernelspec": {
   "display_name": "Python 3",
   "language": "python",
   "name": "python3"
  },
  "language_info": {
   "codemirror_mode": {
    "name": "ipython",
    "version": 3
   },
   "file_extension": ".py",
   "mimetype": "text/x-python",
   "name": "python",
   "nbconvert_exporter": "python",
   "pygments_lexer": "ipython3",
   "version": "3.8.5"
  }
 },
 "nbformat": 4,
 "nbformat_minor": 4
}
